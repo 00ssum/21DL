{
 "cells": [
  {
   "cell_type": "code",
   "execution_count": 6,
   "id": "yellow-yugoslavia",
   "metadata": {},
   "outputs": [
    {
     "name": "stdout",
     "output_type": "stream",
     "text": [
      "\n"
     ]
    }
   ],
   "source": [
    "import torch\n",
    "import torch.nn as nn\n",
    "import torch.optim as optim\n",
    "import torchvision.datasets as dset\n",
    "import torchvision.transforms as transforms\n",
    "from torch.utils.data import DataLoader\n",
    "from torch.autograd import Variable\n",
    "import matplotlib.pyplot as plt\n",
    "%matplotlib inline\n",
    "import numpy as np"
   ]
  },
  {
   "cell_type": "code",
   "execution_count": 12,
   "id": "graduate-fleet",
   "metadata": {},
   "outputs": [
    {
     "name": "stdout",
     "output_type": "stream",
     "text": [
      "\n"
     ]
    }
   ],
   "source": [
    "mnist_train=dset.MNIST(\"\",train=True, transform=transforms.ToTensor(), target_transform=None, download=True)\n",
    "mnist_test=dset.MNIST(\"\",train=False, transform=transforms.ToTensor(), target_transform=None, download=True)"
   ]
  },
  {
   "cell_type": "code",
   "execution_count": 13,
   "id": "occasional-grass",
   "metadata": {},
   "outputs": [
    {
     "name": "stdout",
     "output_type": "stream",
     "text": [
      "mnist_train 길이: 60000\n",
      "mnist_test길이: 10000\n",
      "image data 형태: torch.Size([1, 28, 28])\n",
      "label:  7\n"
     ]
    },
    {
     "data": {
      "image/png": "[encoded data removed]",
      "text/plain": [
       "<Figure size 432x288 with 1 Axes>"
      ]
     },
     "metadata": {
      "needs_background": "light"
     },
     "output_type": "display_data"
    }
   ],
   "source": [
    "print \"mnist_train 길이:\",len(mnist_train)\n",
    "print \"mnist_test길이:\",len(mnist_test)\n",
    "\n",
    "image,label=mnist_test.__getitem__(0)\n",
    "print\"image data 형태:\",image.size()\n",
    "print\"label: \",label\n",
    "\n",
    "img=image.numpy()\n",
    "plt.title(\"label: %d\" %label)\n",
    "plt.imshow(img[0], cmap='gray')\n",
    "plt.show()"
   ]
  },
  {
   "cell_type": "code",
   "execution_count": 14,
   "id": "seven-secretary",
   "metadata": {},
   "outputs": [],
   "source": [
    "batch_size=1024\n",
    "learning_rate=0.01\n",
    "num_epoch=400"
   ]
  },
  {
   "cell_type": "code",
   "execution_count": 20,
   "id": "rational-packet",
   "metadata": {},
   "outputs": [],
   "source": [
    "train_loader=torch.utils.data.DataLoader(mnist_train, batch_size=batch_size,shuffle=True,num_workers=2,drop_last=True)\n",
    "test_loader=torch.utils.data.DataLoader(mnist_test, batch_size=batch_size,shuffle=False,num_workers=2,drop_last=True)"
   ]
  },
  {
   "cell_type": "code",
   "execution_count": 23,
   "id": "fitting-fleece",
   "metadata": {},
   "outputs": [
    {
     "name": "stdout",
     "output_type": "stream",
     "text": [
      "[0]\n",
      "한 번에 로드되는 데이터 크기: 1024\n",
      "[1]\n",
      "한 번에 로드되는 데이터 크기: 1024\n",
      "[2]\n",
      "한 번에 로드되는 데이터 크기: 1024\n",
      "[3]\n",
      "한 번에 로드되는 데이터 크기: 1024\n",
      "[4]\n",
      "한 번에 로드되는 데이터 크기: 1024\n",
      "[5]\n",
      "한 번에 로드되는 데이터 크기: 1024\n"
     ]
    },
    {
     "data": {
      "image/png": "[encoded data removed]",
      "text/plain": [
       "<Figure size 432x288 with 3 Axes>"
      ]
     },
     "metadata": {
      "needs_background": "light"
     },
     "output_type": "display_data"
    }
   ],
   "source": [
    "n=3\n",
    "for i, [imgs, labels] in enumerate(test_loader):\n",
    "    if i>5:\n",
    "        break\n",
    "        \n",
    "    print \"[%d]\" %i\n",
    "    print \"한 번에 로드되는 데이터 크기:\", len(imgs)\n",
    "    \n",
    "    for j in range(n):\n",
    "        img=imgs[j].numpy()\n",
    "        img=img.reshape((img.shape[1],img.shape[2]))\n",
    "        \n",
    "        plt.subplot(1,n,j+1)\n",
    "        plt.imshow(img,cmap='gray')\n",
    "        plt.title(\"label: %d\" %labels[j])\n",
    "    plt.show"
   ]
  },
  {
   "cell_type": "code",
   "execution_count": 25,
   "id": "spare-bhutan",
   "metadata": {},
   "outputs": [],
   "source": [
    "model=nn.Sequential(\n",
    "    nn.Linear(28*28,256),\n",
    "    nn.Sigmoid(),\n",
    "    nn.Linear(256,128),\n",
    "    nn.Linear(128,10),\n",
    ")"
   ]
  },
  {
   "cell_type": "code",
   "execution_count": 39,
   "id": "responsible-customer",
   "metadata": {},
   "outputs": [],
   "source": [
    "def ComputeAccr(dloader,imodel):\n",
    "    corrent=0\n",
    "    total=0\n",
    "    \n",
    "    for j,[imgs,labels] in enumerate(dloader):\n",
    "        img=imgs\n",
    "        label=Variable(labels)\n",
    "        \n",
    "        img=img.reshape((img.shape[0], img.shape[2], img.shape[3]))\n",
    "        img=img.reshape((img.shape[0], img.shape[1]*img.shape[2]))\n",
    "        img=Variable(img, requires_grad=False)\n",
    "        \n",
    "        output=imodel(img)\n",
    "        _, output_index=torch.max(output,1)\n",
    "        \n",
    "        total+=label.size(0)\n",
    "        corrent+=(output_index==label).sum().float()\n",
    "    print(\"Accuracy of Test Data:{}\".format(100*corrent/total))"
   ]
  },
  {
   "cell_type": "code",
   "execution_count": 40,
   "id": "governing-capitol",
   "metadata": {},
   "outputs": [
    {
     "name": "stdout",
     "output_type": "stream",
     "text": [
      "Accuracy of Test Data:11.2955732346\n"
     ]
    }
   ],
   "source": [
    "ComputeAccr(test_loader,model)"
   ]
  },
  {
   "cell_type": "code",
   "execution_count": 43,
   "id": "exposed-conditioning",
   "metadata": {},
   "outputs": [],
   "source": [
    "loss_func=nn.CrossEntropyLoss()\n",
    "optimizer=optim.SGD(model.parameters(), lr=learning_rate)"
   ]
  },
  {
   "cell_type": "code",
   "execution_count": null,
   "id": "annual-lender",
   "metadata": {},
   "outputs": [
    {
     "name": "stdout",
     "output_type": "stream",
     "text": [
      "0..\n",
      "Accuracy of Test Data:82.736541748\n",
      "tensor(0.6306, grad_fn=<NllLossBackward>)\n",
      "50..\n",
      "Accuracy of Test Data:88.661026001\n",
      "tensor(0.3767, grad_fn=<NllLossBackward>)\n",
      "100..\n",
      "Accuracy of Test Data:89.952255249\n",
      "tensor(0.3692, grad_fn=<NllLossBackward>)\n",
      "200..\n",
      "Accuracy of Test Data:91.1458358765\n",
      "tensor(0.3096, grad_fn=<NllLossBackward>)\n",
      "250..\n",
      "Accuracy of Test Data:91.514755249\n",
      "tensor(0.2562, grad_fn=<NllLossBackward>)\n",
      "300..\n",
      "Accuracy of Test Data:91.8402786255\n",
      "tensor(0.3185, grad_fn=<NllLossBackward>)\n",
      "350..\n",
      "Accuracy of Test Data:92.111541748\n",
      "tensor(0.2873, grad_fn=<NllLossBackward>)\n"
     ]
    }
   ],
   "source": [
    "num_epoch=400\n",
    "for i in range(num_epoch): \n",
    "    for j, [imgs, labels] in enumerate(train_loader): \n",
    "        img =imgs \n",
    "        label=Variable(labels)\n",
    "    \n",
    "        img=img.reshape((img.shape[0], img.shape[2], img.shape[3]))\n",
    "        img=img.reshape((img.shape[0], img.shape[1]*img.shape[2]))\n",
    "        img=Variable(img, requires_grad=True)\n",
    "\n",
    "        optimizer.zero_grad()\n",
    "        output=model(img)\n",
    "        loss=loss_func(output,label)\n",
    "\n",
    "        loss.backward()\n",
    "        optimizer.step()\n",
    "\n",
    "    if i%50==0:\n",
    "        print(\"%d..\" %i)\n",
    "        ComputeAccr(test_loader, model)\n",
    "        print loss"
   ]
  },
  {
   "cell_type": "code",
   "execution_count": 53,
   "id": "synthetic-brick",
   "metadata": {},
   "outputs": [
    {
     "name": "stdout",
     "output_type": "stream",
     "text": [
      "Accuracy of Test Data:92.3502578735\n"
     ]
    }
   ],
   "source": [
    "ComputeAccr(test_loader,model)"
   ]
  },
  {
   "cell_type": "code",
   "execution_count": 54,
   "id": "acute-reservoir",
   "metadata": {},
   "outputs": [],
   "source": [
    "netname='./nets/mlp_weight.pkl'\n",
    "torch.save(model,netname, )"
   ]
  },
  {
   "cell_type": "code",
   "execution_count": null,
   "id": "crude-coffee",
   "metadata": {},
   "outputs": [],
   "source": []
  }
 ],
 "metadata": {
  "kernelspec": {
   "display_name": "conda_pytorch_p27",
   "language": "python",
   "name": "conda_pytorch_p27"
  },
  "language_info": {
   "codemirror_mode": {
    "name": "ipython",
    "version": 2
   },
   "file_extension": ".py",
   "mimetype": "text/x-python",
   "name": "python",
   "nbconvert_exporter": "python",
   "pygments_lexer": "ipython2",
   "version": "2.7.16"
  }
 },
 "nbformat": 4,
 "nbformat_minor": 5
}
